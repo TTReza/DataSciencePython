{
 "cells": [
  {
   "cell_type": "code",
   "execution_count": 1,
   "id": "334fed49-a3f6-44a4-ba51-efe7d32ae1b3",
   "metadata": {},
   "outputs": [
    {
     "data": {
      "text/html": [
       "<div>\n",
       "<style scoped>\n",
       "    .dataframe tbody tr th:only-of-type {\n",
       "        vertical-align: middle;\n",
       "    }\n",
       "\n",
       "    .dataframe tbody tr th {\n",
       "        vertical-align: top;\n",
       "    }\n",
       "\n",
       "    .dataframe thead th {\n",
       "        text-align: right;\n",
       "    }\n",
       "</style>\n",
       "<table border=\"1\" class=\"dataframe\">\n",
       "  <thead>\n",
       "    <tr style=\"text-align: right;\">\n",
       "      <th></th>\n",
       "      <th>Alaska</th>\n",
       "      <th>Arkansas</th>\n",
       "      <th>California</th>\n",
       "      <th>Colorado</th>\n",
       "      <th>Connecticut</th>\n",
       "      <th>Delaware</th>\n",
       "      <th>District of Columbia</th>\n",
       "      <th>Guam</th>\n",
       "      <th>Hawaii</th>\n",
       "      <th>Idaho</th>\n",
       "      <th>...</th>\n",
       "      <th>Oregon</th>\n",
       "      <th>Pennsylvania</th>\n",
       "      <th>Rhode Island</th>\n",
       "      <th>South Dakota</th>\n",
       "      <th>Utah</th>\n",
       "      <th>Vermont</th>\n",
       "      <th>Washington</th>\n",
       "      <th>West Virginia</th>\n",
       "      <th>Wisconsin</th>\n",
       "      <th>Wyoming</th>\n",
       "    </tr>\n",
       "  </thead>\n",
       "  <tbody>\n",
       "    <tr>\n",
       "      <th>Alaska</th>\n",
       "      <td>1.000000</td>\n",
       "      <td>0.981938</td>\n",
       "      <td>0.986455</td>\n",
       "      <td>0.970585</td>\n",
       "      <td>0.992234</td>\n",
       "      <td>0.971193</td>\n",
       "      <td>0.973326</td>\n",
       "      <td>0.979386</td>\n",
       "      <td>0.986835</td>\n",
       "      <td>0.958666</td>\n",
       "      <td>...</td>\n",
       "      <td>0.989706</td>\n",
       "      <td>0.959445</td>\n",
       "      <td>0.991785</td>\n",
       "      <td>0.980783</td>\n",
       "      <td>0.961031</td>\n",
       "      <td>0.992841</td>\n",
       "      <td>0.974007</td>\n",
       "      <td>0.984063</td>\n",
       "      <td>0.966210</td>\n",
       "      <td>0.876241</td>\n",
       "    </tr>\n",
       "    <tr>\n",
       "      <th>Arkansas</th>\n",
       "      <td>0.981938</td>\n",
       "      <td>1.000000</td>\n",
       "      <td>0.981222</td>\n",
       "      <td>0.974544</td>\n",
       "      <td>0.980991</td>\n",
       "      <td>0.971062</td>\n",
       "      <td>0.976168</td>\n",
       "      <td>0.975847</td>\n",
       "      <td>0.989265</td>\n",
       "      <td>0.951022</td>\n",
       "      <td>...</td>\n",
       "      <td>0.982317</td>\n",
       "      <td>0.957945</td>\n",
       "      <td>0.986417</td>\n",
       "      <td>0.984424</td>\n",
       "      <td>0.954685</td>\n",
       "      <td>0.982433</td>\n",
       "      <td>0.965271</td>\n",
       "      <td>0.983518</td>\n",
       "      <td>0.961117</td>\n",
       "      <td>0.816334</td>\n",
       "    </tr>\n",
       "    <tr>\n",
       "      <th>California</th>\n",
       "      <td>0.986455</td>\n",
       "      <td>0.981222</td>\n",
       "      <td>1.000000</td>\n",
       "      <td>0.987726</td>\n",
       "      <td>0.992328</td>\n",
       "      <td>0.969744</td>\n",
       "      <td>0.982806</td>\n",
       "      <td>0.967800</td>\n",
       "      <td>0.981436</td>\n",
       "      <td>0.946857</td>\n",
       "      <td>...</td>\n",
       "      <td>0.985984</td>\n",
       "      <td>0.946763</td>\n",
       "      <td>0.989798</td>\n",
       "      <td>0.974206</td>\n",
       "      <td>0.946546</td>\n",
       "      <td>0.992023</td>\n",
       "      <td>0.987628</td>\n",
       "      <td>0.977868</td>\n",
       "      <td>0.950854</td>\n",
       "      <td>0.873317</td>\n",
       "    </tr>\n",
       "    <tr>\n",
       "      <th>Colorado</th>\n",
       "      <td>0.970585</td>\n",
       "      <td>0.974544</td>\n",
       "      <td>0.987726</td>\n",
       "      <td>1.000000</td>\n",
       "      <td>0.980025</td>\n",
       "      <td>0.968148</td>\n",
       "      <td>0.986274</td>\n",
       "      <td>0.961301</td>\n",
       "      <td>0.973284</td>\n",
       "      <td>0.942145</td>\n",
       "      <td>...</td>\n",
       "      <td>0.977187</td>\n",
       "      <td>0.939117</td>\n",
       "      <td>0.980496</td>\n",
       "      <td>0.970238</td>\n",
       "      <td>0.940727</td>\n",
       "      <td>0.982147</td>\n",
       "      <td>0.982347</td>\n",
       "      <td>0.972318</td>\n",
       "      <td>0.943689</td>\n",
       "      <td>0.845495</td>\n",
       "    </tr>\n",
       "    <tr>\n",
       "      <th>Connecticut</th>\n",
       "      <td>0.992234</td>\n",
       "      <td>0.980991</td>\n",
       "      <td>0.992328</td>\n",
       "      <td>0.980025</td>\n",
       "      <td>1.000000</td>\n",
       "      <td>0.981611</td>\n",
       "      <td>0.972706</td>\n",
       "      <td>0.976996</td>\n",
       "      <td>0.984969</td>\n",
       "      <td>0.963695</td>\n",
       "      <td>...</td>\n",
       "      <td>0.993275</td>\n",
       "      <td>0.965274</td>\n",
       "      <td>0.994482</td>\n",
       "      <td>0.979789</td>\n",
       "      <td>0.964255</td>\n",
       "      <td>0.997531</td>\n",
       "      <td>0.984275</td>\n",
       "      <td>0.986163</td>\n",
       "      <td>0.971129</td>\n",
       "      <td>0.894385</td>\n",
       "    </tr>\n",
       "  </tbody>\n",
       "</table>\n",
       "<p>5 rows × 37 columns</p>\n",
       "</div>"
      ],
      "text/plain": [
       "               Alaska  Arkansas  California  Colorado  Connecticut  Delaware  \\\n",
       "Alaska       1.000000  0.981938    0.986455  0.970585     0.992234  0.971193   \n",
       "Arkansas     0.981938  1.000000    0.981222  0.974544     0.980991  0.971062   \n",
       "California   0.986455  0.981222    1.000000  0.987726     0.992328  0.969744   \n",
       "Colorado     0.970585  0.974544    0.987726  1.000000     0.980025  0.968148   \n",
       "Connecticut  0.992234  0.980991    0.992328  0.980025     1.000000  0.981611   \n",
       "\n",
       "             District of Columbia      Guam    Hawaii     Idaho  ...  \\\n",
       "Alaska                   0.973326  0.979386  0.986835  0.958666  ...   \n",
       "Arkansas                 0.976168  0.975847  0.989265  0.951022  ...   \n",
       "California               0.982806  0.967800  0.981436  0.946857  ...   \n",
       "Colorado                 0.986274  0.961301  0.973284  0.942145  ...   \n",
       "Connecticut              0.972706  0.976996  0.984969  0.963695  ...   \n",
       "\n",
       "               Oregon  Pennsylvania  Rhode Island  South Dakota      Utah  \\\n",
       "Alaska       0.989706      0.959445      0.991785      0.980783  0.961031   \n",
       "Arkansas     0.982317      0.957945      0.986417      0.984424  0.954685   \n",
       "California   0.985984      0.946763      0.989798      0.974206  0.946546   \n",
       "Colorado     0.977187      0.939117      0.980496      0.970238  0.940727   \n",
       "Connecticut  0.993275      0.965274      0.994482      0.979789  0.964255   \n",
       "\n",
       "              Vermont  Washington  West Virginia  Wisconsin   Wyoming  \n",
       "Alaska       0.992841    0.974007       0.984063   0.966210  0.876241  \n",
       "Arkansas     0.982433    0.965271       0.983518   0.961117  0.816334  \n",
       "California   0.992023    0.987628       0.977868   0.950854  0.873317  \n",
       "Colorado     0.982147    0.982347       0.972318   0.943689  0.845495  \n",
       "Connecticut  0.997531    0.984275       0.986163   0.971129  0.894385  \n",
       "\n",
       "[5 rows x 37 columns]"
      ]
     },
     "execution_count": 1,
     "metadata": {},
     "output_type": "execute_result"
    }
   ],
   "source": [
    "import pandas as pd\n",
    "import numpy as np\n",
    "\n",
    "df = pd.read_csv(\"Minwage.csv\")\n",
    "\n",
    "act_min_wage = pd.DataFrame()\n",
    "\n",
    "for name, group in df.groupby(\"State\"):\n",
    "    if act_min_wage.empty:\n",
    "        act_min_wage = group.set_index(\"Year\")[[\"Department.Of.Labor.Cleaned.Low.Value\"]].rename(columns={\"Department.Of.Labor.Cleaned.Low.Value\":name})\n",
    "    else:\n",
    "        act_min_wage = act_min_wage.join(group.set_index(\"Year\")[[\"Department.Of.Labor.Cleaned.Low.Value\"]].rename(columns={\"Department.Of.Labor.Cleaned.Low.Value\":name}))\n",
    "\n",
    "act_min_wage.head()\n",
    "\n",
    "min_wage_corr = act_min_wage.replace(0, np.NaN).dropna(axis=1).corr()\n",
    "\n",
    "min_wage_corr.head()"
   ]
  },
  {
   "cell_type": "code",
   "execution_count": 2,
   "id": "723a826f-7e9d-49c5-8c31-d50fa2630634",
   "metadata": {},
   "outputs": [
    {
     "data": {
      "text/plain": [
       "<matplotlib.image.AxesImage at 0x20711ec8bb0>"
      ]
     },
     "execution_count": 2,
     "metadata": {},
     "output_type": "execute_result"
    },
    {
     "data": {
      "image/png": "[encoded data removed]",
      "text/plain": [
       "<Figure size 288x288 with 1 Axes>"
      ]
     },
     "metadata": {
      "needs_background": "light"
     },
     "output_type": "display_data"
    }
   ],
   "source": [
    "import matplotlib.pyplot as plt\n",
    "\n",
    "plt.matshow(min_wage_corr)"
   ]
  },
  {
   "cell_type": "code",
   "execution_count": 5,
   "id": "e633ef4a-fcf3-40bc-b6f6-41bc9c1f7730",
   "metadata": {},
   "outputs": [
    {
     "data": {
      "image/png": "[encoded data removed]",
      "text/plain": [
       "<Figure size 864x864 with 1 Axes>"
      ]
     },
     "metadata": {
      "needs_background": "light"
     },
     "output_type": "display_data"
    }
   ],
   "source": [
    "labels = [c[:2] for c in min_wage_corr.columns]\n",
    "\n",
    "fig = plt.figure(figsize=(12,12))\n",
    "\n",
    "ax = fig.add_subplot(111)\n",
    "ax.matshow(min_wage_corr, cmap = plt.cm.RdYlGn)\n",
    "\n",
    "ax.set_xticks(np.arange(len(labels)))\n",
    "ax.set_yticks(np.arange(len(labels)))\n",
    "\n",
    "ax.set_yticklabels(labels)\n",
    "ax.set_xticklabels(labels)\n",
    "\n",
    "plt.show()\n"
   ]
  },
  {
   "cell_type": "code",
   "execution_count": 6,
   "id": "f31994bc-b76a-44da-9ed7-2a60b360e5a2",
   "metadata": {},
   "outputs": [
    {
     "data": {
      "text/plain": [
       "['Al',\n",
       " 'Ar',\n",
       " 'Ca',\n",
       " 'Co',\n",
       " 'Co',\n",
       " 'De',\n",
       " 'Di',\n",
       " 'Gu',\n",
       " 'Ha',\n",
       " 'Id',\n",
       " 'In',\n",
       " 'Ke',\n",
       " 'Ma',\n",
       " 'Ma',\n",
       " 'Ma',\n",
       " 'Mi',\n",
       " 'Mi',\n",
       " 'Ne',\n",
       " 'Ne',\n",
       " 'Ne',\n",
       " 'Ne',\n",
       " 'Ne',\n",
       " 'Ne',\n",
       " 'No',\n",
       " 'No',\n",
       " 'Oh',\n",
       " 'Ok',\n",
       " 'Or',\n",
       " 'Pe',\n",
       " 'Rh',\n",
       " 'So',\n",
       " 'Ut',\n",
       " 'Ve',\n",
       " 'Wa',\n",
       " 'We',\n",
       " 'Wi',\n",
       " 'Wy']"
      ]
     },
     "execution_count": 6,
     "metadata": {},
     "output_type": "execute_result"
    }
   ],
   "source": [
    "labels"
   ]
  },
  {
   "cell_type": "code",
   "execution_count": 7,
   "id": "5387bf34-79f4-4491-84b1-64c3c0af715b",
   "metadata": {},
   "outputs": [],
   "source": [
    "import pandas as pd\n",
    "import requests\n",
    "\n",
    "web = requests.get(\"https://www.infoplease.com/us/postal-information/state-abbreviations-and-state-postal-codes\")\n",
    "\n",
    "dfs = pd.read_html(web.text)"
   ]
  },
  {
   "cell_type": "code",
   "execution_count": 8,
   "id": "cb135b68-f4d9-4fee-8b23-8bbd9163e3b5",
   "metadata": {},
   "outputs": [
    {
     "name": "stdout",
     "output_type": "stream",
     "text": [
      "  State Name/District Postal Abbreviation Postal Code\n",
      "0             Alabama                Ala.          AL\n",
      "1              Alaska              Alaska          AK\n",
      "2             Arizona               Ariz.          AZ\n",
      "3            Arkansas                Ark.          AR\n",
      "4          California              Calif.          CA\n",
      "        Territory/Associate Abbreviation Postal Code\n",
      "0            American Samoa          NaN          AS\n",
      "1                      Guam         Guam          GU\n",
      "2          Marshall Islands          NaN          MH\n",
      "3                Micronesia          NaN          FM\n",
      "4  Northern Mariana Islands          NaN          MP\n"
     ]
    }
   ],
   "source": [
    "for df in dfs:\n",
    "    print(df.head())"
   ]
  },
  {
   "cell_type": "code",
   "execution_count": 9,
   "id": "52079e77-f390-4219-a20f-7dd4ab94fae3",
   "metadata": {},
   "outputs": [
    {
     "data": {
      "text/html": [
       "<div>\n",
       "<style scoped>\n",
       "    .dataframe tbody tr th:only-of-type {\n",
       "        vertical-align: middle;\n",
       "    }\n",
       "\n",
       "    .dataframe tbody tr th {\n",
       "        vertical-align: top;\n",
       "    }\n",
       "\n",
       "    .dataframe thead th {\n",
       "        text-align: right;\n",
       "    }\n",
       "</style>\n",
       "<table border=\"1\" class=\"dataframe\">\n",
       "  <thead>\n",
       "    <tr style=\"text-align: right;\">\n",
       "      <th></th>\n",
       "      <th>State Name/District</th>\n",
       "      <th>Postal Abbreviation</th>\n",
       "      <th>Postal Code</th>\n",
       "    </tr>\n",
       "  </thead>\n",
       "  <tbody>\n",
       "    <tr>\n",
       "      <th>0</th>\n",
       "      <td>Alabama</td>\n",
       "      <td>Ala.</td>\n",
       "      <td>AL</td>\n",
       "    </tr>\n",
       "    <tr>\n",
       "      <th>1</th>\n",
       "      <td>Alaska</td>\n",
       "      <td>Alaska</td>\n",
       "      <td>AK</td>\n",
       "    </tr>\n",
       "    <tr>\n",
       "      <th>2</th>\n",
       "      <td>Arizona</td>\n",
       "      <td>Ariz.</td>\n",
       "      <td>AZ</td>\n",
       "    </tr>\n",
       "    <tr>\n",
       "      <th>3</th>\n",
       "      <td>Arkansas</td>\n",
       "      <td>Ark.</td>\n",
       "      <td>AR</td>\n",
       "    </tr>\n",
       "    <tr>\n",
       "      <th>4</th>\n",
       "      <td>California</td>\n",
       "      <td>Calif.</td>\n",
       "      <td>CA</td>\n",
       "    </tr>\n",
       "  </tbody>\n",
       "</table>\n",
       "</div>"
      ],
      "text/plain": [
       "  State Name/District Postal Abbreviation Postal Code\n",
       "0             Alabama                Ala.          AL\n",
       "1              Alaska              Alaska          AK\n",
       "2             Arizona               Ariz.          AZ\n",
       "3            Arkansas                Ark.          AR\n",
       "4          California              Calif.          CA"
      ]
     },
     "execution_count": 9,
     "metadata": {},
     "output_type": "execute_result"
    }
   ],
   "source": [
    "state_abv = dfs[0]\n",
    "state_abv.head()"
   ]
  },
  {
   "cell_type": "code",
   "execution_count": 10,
   "id": "6d12c00a-c92a-498f-a2dc-fd7a1c3f976d",
   "metadata": {},
   "outputs": [],
   "source": [
    "state_abv.to_csv(\"state_abv.csv\", index = False)"
   ]
  },
  {
   "cell_type": "code",
   "execution_count": null,
   "id": "828f9583-837b-4d9d-a0cb-c40fd90e28ee",
   "metadata": {},
   "outputs": [],
   "source": []
  }
 ],
 "metadata": {
  "kernelspec": {
   "display_name": "Python 3 (ipykernel)",
   "language": "python",
   "name": "python3"
  },
  "language_info": {
   "codemirror_mode": {
    "name": "ipython",
    "version": 3
   },
   "file_extension": ".py",
   "mimetype": "text/x-python",
   "name": "python",
   "nbconvert_exporter": "python",
   "pygments_lexer": "ipython3",
   "version": "3.9.12"
  }
 },
 "nbformat": 4,
 "nbformat_minor": 5
}
